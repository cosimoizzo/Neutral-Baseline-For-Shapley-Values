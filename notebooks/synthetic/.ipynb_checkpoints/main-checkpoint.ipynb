{
 "cells": [
  {
   "cell_type": "code",
   "execution_count": 1,
   "metadata": {},
   "outputs": [],
   "source": [
    "from joblib import Parallel, delayed\n",
    "from run_sim import run_sim"
   ]
  },
  {
   "cell_type": "code",
   "execution_count": 2,
   "metadata": {},
   "outputs": [],
   "source": [
    "# dictionary for simulation settings\n",
    "dict_settings_sim = dict()\n",
    "dict_settings_sim[\"n_vars\"] = 5 # number of features\n",
    "dict_settings_sim[\"identity\"] = True # identity as variance covariance matrix\n",
    "dict_settings_sim[\"n_sim\"] = 600 # number of simulations for training data\n",
    "dict_settings_sim[\"n_out_of_sample\"] = 100 # number of simulations for test data"
   ]
  },
  {
   "cell_type": "code",
   "execution_count": 3,
   "metadata": {},
   "outputs": [
    {
     "name": "stderr",
     "output_type": "stream",
     "text": [
      "[Parallel(n_jobs=-1)]: Using backend LokyBackend with 12 concurrent workers.\n",
      "[Parallel(n_jobs=-1)]: Done   1 tasks      | elapsed: 137.0min\n",
      "[Parallel(n_jobs=-1)]: Done   2 out of  23 | elapsed: 137.5min remaining: 1443.9min\n",
      "[Parallel(n_jobs=-1)]: Done   4 out of  23 | elapsed: 139.6min remaining: 663.1min\n",
      "[Parallel(n_jobs=-1)]: Done   6 out of  23 | elapsed: 141.7min remaining: 401.5min\n",
      "[Parallel(n_jobs=-1)]: Done   8 out of  23 | elapsed: 150.1min remaining: 281.4min\n",
      "[Parallel(n_jobs=-1)]: Done  10 out of  23 | elapsed: 151.8min remaining: 197.3min\n",
      "[Parallel(n_jobs=-1)]: Done  12 out of  23 | elapsed: 156.8min remaining: 143.7min\n",
      "[Parallel(n_jobs=-1)]: Done  14 out of  23 | elapsed: 267.1min remaining: 171.7min\n",
      "[Parallel(n_jobs=-1)]: Done  16 out of  23 | elapsed: 271.1min remaining: 118.6min\n",
      "[Parallel(n_jobs=-1)]: Done  18 out of  23 | elapsed: 272.1min remaining: 75.6min\n",
      "[Parallel(n_jobs=-1)]: Done  20 out of  23 | elapsed: 278.8min remaining: 41.8min\n",
      "[Parallel(n_jobs=-1)]: Done  23 out of  23 | elapsed: 282.7min finished\n"
     ]
    },
    {
     "data": {
      "text/plain": [
       "[None,\n",
       " None,\n",
       " None,\n",
       " None,\n",
       " None,\n",
       " None,\n",
       " None,\n",
       " None,\n",
       " None,\n",
       " None,\n",
       " None,\n",
       " None,\n",
       " None,\n",
       " None,\n",
       " None,\n",
       " None,\n",
       " None,\n",
       " None,\n",
       " None,\n",
       " None,\n",
       " None,\n",
       " None,\n",
       " None]"
      ]
     },
     "execution_count": 3,
     "metadata": {},
     "output_type": "execute_result"
    }
   ],
   "source": [
    "# Start Parallel\n",
    "start = 0\n",
    "n_mc = 100\n",
    "n_cpu = -1\n",
    "Parallel(n_jobs = n_cpu, verbose=12)(delayed(run_sim)(i_mc, dict_settings_sim) for i_mc in range(start, n_mc))"
   ]
  },
  {
   "cell_type": "code",
   "execution_count": null,
   "metadata": {},
   "outputs": [],
   "source": []
  }
 ],
 "metadata": {
  "@webio": {
   "lastCommId": null,
   "lastKernelId": null
  },
  "kernelspec": {
   "display_name": "Python 3",
   "language": "python",
   "name": "python3"
  },
  "language_info": {
   "codemirror_mode": {
    "name": "ipython",
    "version": 3
   },
   "file_extension": ".py",
   "mimetype": "text/x-python",
   "name": "python",
   "nbconvert_exporter": "python",
   "pygments_lexer": "ipython3",
   "version": "3.7.6"
  }
 },
 "nbformat": 4,
 "nbformat_minor": 2
}
